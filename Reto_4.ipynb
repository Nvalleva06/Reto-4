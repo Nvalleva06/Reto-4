{
  "nbformat": 4,
  "nbformat_minor": 0,
  "metadata": {
    "colab": {
      "provenance": []
    },
    "kernelspec": {
      "name": "python3",
      "display_name": "Python 3"
    },
    "language_info": {
      "name": "python"
    }
  },
  "cells": [
    {
      "cell_type": "markdown",
      "source": [
        "#Reto #4\n",
        "Para este reto desarrollaré doferentes códigos para resolver los siguientes problemas.\n",
        "\n",
        "1. Dado un número entero, determinar si ese número corresponde al código ASCII de una vocal minúscula.\n",
        "\n",
        "2. Dada una cadena de longitud 1, determine si el código ASCII de primera letra de la cadena es par o no.\n",
        "\n",
        "3. Dado un carácter, construya un programa en Python para determinar si el carácter es un dígito o no.\n",
        "\n",
        "4. Realice un programa que lea dos números reales y determine si el primero es múltiplo del segundo.\n",
        "\n",
        "5. Dado un número real x, construya un programa que permita determinar si el número es positivo, negativo o cero. Para cada caso de debe imprimir el texto que se especifica a continuación:\n",
        " + Positivo: \"El número x es positivo\"\n",
        " + Negativo: \"El número x es negativo\"\n",
        " + Cero (0): \"El número x es el neutro para la suma\"\n",
        "\n",
        "6. Dado el centro y el radio de un círculo, determinar si un punto de R2 pertenece o no al interior del círculo.\n",
        "\n",
        "7. Dadas tres longitudes positivas, determinar si con esas longitudes se puede construir un triángulo.\n",
        "\n",
        "8. Escriba un programa que reciba el nombre en minúsculas de un país de America y retorne la ciudad capital, si el país no pertenece al continente debe arrojar país no identificado (Utilice *match-case*)."
      ],
      "metadata": {
        "id": "yqSj_NbBM45r"
      }
    },
    {
      "cell_type": "markdown",
      "source": [
        "## Ejercicio 1\n",
        "1. Dado un número entero, determinar si ese número corresponde al código ASCII de una vocal minúscula.\n",
        " - a = 97\n",
        " - e = 101\n",
        " - i = 105\n",
        " - o = 111\n",
        " - u = 117\n"
      ],
      "metadata": {
        "id": "F98Yd_IoOrBA"
      }
    },
    {
      "cell_type": "code",
      "source": [
        "n : int\n",
        "a = 97\n",
        "e = 101\n",
        "i = 105\n",
        "o = 111\n",
        "u = 117\n",
        "n = int(input(\"Ingrese un numero entero: \"))\n",
        "if n == a:\n",
        " print(\"El numero ingresado corresponde al codigo ASCII de la vocal minuscula a\")\n",
        "elif n == e:\n",
        " print(\"El numero ingresado corresponde al codigo ASCII de la vocal minuscula e\")\n",
        "elif n == i:\n",
        " print(\"El numero ingresado corresponde al codigo ASCII de la vocal minuscula i\")\n",
        "elif n == o:\n",
        " print(\"El numero ingresado corresponde al codigo ASCII de la vocal minuscula o\")\n",
        "elif n == u:\n",
        " print(\"El numero ingresado corresponde al codigo ASCII de la vocal minuscula u\")\n",
        "else:\n",
        " print(\"El numero ingresado no corresponde al codigo ASCII de una vocal minuscula\")\n",
        "\n"
      ],
      "metadata": {
        "colab": {
          "base_uri": "https://localhost:8080/"
        },
        "id": "PbiWi_GsPeY4",
        "outputId": "72e71b60-67c6-4ec3-de26-392f3682e725"
      },
      "execution_count": null,
      "outputs": [
        {
          "output_type": "stream",
          "name": "stdout",
          "text": [
            "Ingrese un numero entero: 111\n",
            "El numero ingresado corresponde al codigo ASCII de la vocal minuscula o\n"
          ]
        }
      ]
    },
    {
      "cell_type": "markdown",
      "source": [
        "## Ejercicio 2\n",
        "2. Dada una cadena de longitud 1, determine si el código ASCII de primera letra de la cadena es par o no."
      ],
      "metadata": {
        "id": "HRT75K-_VyZt"
      }
    },
    {
      "cell_type": "code",
      "source": [
        "Caracter = input(\"Ingrese UNA SOLA letra: \")\n",
        "codigo = ord(Caracter)\n",
        "if codigo % 2 == 0:\n",
        "  print(\"El codigo ASCII de la letra es par\")\n",
        "  print( str(codigo))\n",
        "else:\n",
        "  print(\"El codigo ASCII de la letra es impar\")\n",
        "  print( str(codigo))"
      ],
      "metadata": {
        "colab": {
          "base_uri": "https://localhost:8080/"
        },
        "id": "ARbcDosNYd9q",
        "outputId": "c5622f10-8565-4b06-e5c2-ddaab8ab3615"
      },
      "execution_count": null,
      "outputs": [
        {
          "output_type": "stream",
          "name": "stdout",
          "text": [
            "Ingrese UNA SOLA letra: r\n",
            "El codigo ASCII de la letra es par\n",
            "114\n"
          ]
        }
      ]
    },
    {
      "cell_type": "markdown",
      "source": [
        "## Ejercicio 3\n",
        "3. Dado un carácter, construya un programa en Python para determinar si el carácter es un dígito o no."
      ],
      "metadata": {
        "id": "jo9d4hyObY7X"
      }
    },
    {
      "cell_type": "code",
      "source": [
        "n = (input(\"Ingrese un caracter: \"))\n",
        "if n == '1' or n == '2' or n == '3' or n == '4' or n == '5' or n == '6' or n == '7' or n == '8' or n == '9' or n == '0':\n",
        "  print(\"El caracter es un digito\")\n",
        "else:\n",
        "  print(\"El caracter no es un digito\")"
      ],
      "metadata": {
        "colab": {
          "base_uri": "https://localhost:8080/"
        },
        "id": "grRqeD_rbmu2",
        "outputId": "a2b721cf-5c8b-44d8-b944-14ed690ddafb"
      },
      "execution_count": null,
      "outputs": [
        {
          "output_type": "stream",
          "name": "stdout",
          "text": [
            "Ingrese un caracter: 4\n",
            "El caracter es un digito\n"
          ]
        }
      ]
    },
    {
      "cell_type": "markdown",
      "source": [
        "## Ejercicio 4\n",
        "4. Realice un programa que lea dos números reales y determine si el primero es múltiplo del segundo."
      ],
      "metadata": {
        "id": "9o8r_z_jzx5J"
      }
    },
    {
      "cell_type": "code",
      "source": [
        "x = float(input(\"Escriba el primer número: \"))\n",
        "y = float(input(\"Escriba el segundo número: \"))\n",
        "if x % y == 0:\n",
        "  print(\"El primer numero si es multiplo del segundo\")\n",
        "else:\n",
        "  print(\"El primer numero no es multiplo del segundo\")"
      ],
      "metadata": {
        "colab": {
          "base_uri": "https://localhost:8080/"
        },
        "id": "oaHfWbqD0D9H",
        "outputId": "974dfb23-b8f9-477a-8b80-09179ab8bf6c"
      },
      "execution_count": null,
      "outputs": [
        {
          "output_type": "stream",
          "name": "stdout",
          "text": [
            "Escriba el primer número: 8\n",
            "Escriba el segundo número: 2\n",
            "El primer numero si es multiplo del segundo\n"
          ]
        }
      ]
    },
    {
      "cell_type": "markdown",
      "source": [
        "## Ejercicio 5\n",
        "5. Dado un número real x, construya un programa que permita determinar si el número es positivo, negativo o cero. Para cada caso de debe imprimir el texto que se especifica a continuación:\n",
        " + Positivo: \"El número x es positivo\"\n",
        " + Negativo: \"El número x es negativo\"\n",
        " + Cero (0): \"El número x es el neutro para la suma\""
      ],
      "metadata": {
        "id": "-HUSgKgh1Fqs"
      }
    },
    {
      "cell_type": "code",
      "source": [
        "n = float(input(\"Ingrese un número: \"))\n",
        "if n > 0:\n",
        "  print(\"El número \" + str(n) + \" es positivo\")\n",
        "elif n == 0:\n",
        "  print(\"El número \" + str(n) +\" es neutro para la suma\")\n",
        "elif n < 0:\n",
        "  print(\"El número \" + str(n) + \" es negativo\")"
      ],
      "metadata": {
        "colab": {
          "base_uri": "https://localhost:8080/"
        },
        "id": "p1_ABRNg1MjM",
        "outputId": "3cdfc647-b5de-4f47-cecd-a6bf0c78b5a2"
      },
      "execution_count": null,
      "outputs": [
        {
          "output_type": "stream",
          "name": "stdout",
          "text": [
            "Ingrese un número: 0\n",
            "El número 0.0 es neutro para la suma\n"
          ]
        }
      ]
    },
    {
      "cell_type": "markdown",
      "source": [
        "##Ejercicio 6\n",
        "6. Dado el centro y el radio de un círculo, determinar si un punto de R2 pertenece o no al interior del círculo."
      ],
      "metadata": {
        "id": "VylMqO_NFJeL"
      }
    },
    {
      "cell_type": "code",
      "source": [
        "cx = float(input(\"Cordenada x del centro del circulo: \"))\n",
        "cy = float(input(\"Cordenada y del centro del circulo: \"))\n",
        "r = float(input(\"Radio del circulo: \"))\n",
        "x = float(input(\"Cordenada x del punto: \"))\n",
        "y = float(input(\"Cordenada y del punto: \"))\n",
        "if (x-cx)**2 + (y-cy)**2 <= r**2:\n",
        "  print(\"El punto \" + str((x , y)) + \" esta dentro del circulo\")\n",
        "elif (x-cx)**2 + (y-cy)**2 > r**2:\n",
        "  print(\"El punto \" + str((x , y)) + \" esta fuera del circulo\")"
      ],
      "metadata": {
        "id": "q_OkBwQaFQ_h",
        "outputId": "560ff77d-eb5a-4386-dd5a-5bdf8db68be6",
        "colab": {
          "base_uri": "https://localhost:8080/",
          "height": 228
        }
      },
      "execution_count": null,
      "outputs": [
        {
          "name": "stdout",
          "output_type": "stream",
          "text": [
            "Cordenada x del centro del circulo: 5}\n"
          ]
        },
        {
          "output_type": "error",
          "ename": "ValueError",
          "evalue": "could not convert string to float: '5}'",
          "traceback": [
            "\u001b[0;31m---------------------------------------------------------------------------\u001b[0m",
            "\u001b[0;31mValueError\u001b[0m                                Traceback (most recent call last)",
            "\u001b[0;32m<ipython-input-15-f5cfb402ce8d>\u001b[0m in \u001b[0;36m<cell line: 0>\u001b[0;34m()\u001b[0m\n\u001b[0;32m----> 1\u001b[0;31m \u001b[0mcx\u001b[0m \u001b[0;34m=\u001b[0m \u001b[0mfloat\u001b[0m\u001b[0;34m(\u001b[0m\u001b[0minput\u001b[0m\u001b[0;34m(\u001b[0m\u001b[0;34m\"Cordenada x del centro del circulo: \"\u001b[0m\u001b[0;34m)\u001b[0m\u001b[0;34m)\u001b[0m\u001b[0;34m\u001b[0m\u001b[0;34m\u001b[0m\u001b[0m\n\u001b[0m\u001b[1;32m      2\u001b[0m \u001b[0mcy\u001b[0m \u001b[0;34m=\u001b[0m \u001b[0mfloat\u001b[0m\u001b[0;34m(\u001b[0m\u001b[0minput\u001b[0m\u001b[0;34m(\u001b[0m\u001b[0;34m\"Cordenada y del centro del circulo: \"\u001b[0m\u001b[0;34m)\u001b[0m\u001b[0;34m)\u001b[0m\u001b[0;34m\u001b[0m\u001b[0;34m\u001b[0m\u001b[0m\n\u001b[1;32m      3\u001b[0m \u001b[0mr\u001b[0m \u001b[0;34m=\u001b[0m \u001b[0mfloat\u001b[0m\u001b[0;34m(\u001b[0m\u001b[0minput\u001b[0m\u001b[0;34m(\u001b[0m\u001b[0;34m\"Radio del circulo: \"\u001b[0m\u001b[0;34m)\u001b[0m\u001b[0;34m)\u001b[0m\u001b[0;34m\u001b[0m\u001b[0;34m\u001b[0m\u001b[0m\n\u001b[1;32m      4\u001b[0m \u001b[0mx\u001b[0m \u001b[0;34m=\u001b[0m \u001b[0mfloat\u001b[0m\u001b[0;34m(\u001b[0m\u001b[0minput\u001b[0m\u001b[0;34m(\u001b[0m\u001b[0;34m\"Cordenada x del punto: \"\u001b[0m\u001b[0;34m)\u001b[0m\u001b[0;34m)\u001b[0m\u001b[0;34m\u001b[0m\u001b[0;34m\u001b[0m\u001b[0m\n\u001b[1;32m      5\u001b[0m \u001b[0my\u001b[0m \u001b[0;34m=\u001b[0m \u001b[0mfloat\u001b[0m\u001b[0;34m(\u001b[0m\u001b[0minput\u001b[0m\u001b[0;34m(\u001b[0m\u001b[0;34m\"Cordenada y del punto: \"\u001b[0m\u001b[0;34m)\u001b[0m\u001b[0;34m)\u001b[0m\u001b[0;34m\u001b[0m\u001b[0;34m\u001b[0m\u001b[0m\n",
            "\u001b[0;31mValueError\u001b[0m: could not convert string to float: '5}'"
          ]
        }
      ]
    },
    {
      "cell_type": "markdown",
      "source": [
        "## Ejercicio 7\n",
        "7. Dadas tres longitudes positivas, determinar si con esas longitudes se puede construir un triángulo."
      ],
      "metadata": {
        "id": "jsq1otWF_UTs"
      }
    },
    {
      "cell_type": "code",
      "source": [
        "a = float(input(\"Longitud 1: \"))\n",
        "b = float(input(\"Longitud 2: \"))\n",
        "c = float(input(\"Longitud 3: \"))\n",
        "if (a+b)>c and (a+c)>b and (b+c)>a:\n",
        "  print(\"Se puede construir un triángulo\")\n",
        "else:\n",
        "  print(\"No se puede construir un triángulo\")"
      ],
      "metadata": {
        "colab": {
          "base_uri": "https://localhost:8080/"
        },
        "id": "iNbjVTrb_q0M",
        "outputId": "2eb74558-b176-4bcb-90d8-bf649914aee4"
      },
      "execution_count": null,
      "outputs": [
        {
          "output_type": "stream",
          "name": "stdout",
          "text": [
            "Longitud 1: 3\n",
            "Longitud 2: 4\n",
            "Longitud 3: 5\n",
            "Se puede construir un triángulo\n"
          ]
        }
      ]
    },
    {
      "cell_type": "markdown",
      "source": [
        "## Ejercicio 8\n",
        "8. Escriba un programa que reciba el nombre en minúsculas de un país de America y retorne la ciudad capital, si el país no pertenece al continente debe arrojar país no identificado (Utilice *match-case*)."
      ],
      "metadata": {
        "id": "bVxwAjCBFU2x"
      }
    },
    {
      "cell_type": "code",
      "source": [
        "pais = str(input(\"Ingrese el nombre de un país de América en minúsculas: \"))\n",
        "\n",
        "match pais:\n",
        "    case \"antigua y barbuda\":\n",
        "        print(\"La capital es Saint John's.\")\n",
        "    case \"argentina\":\n",
        "        print(\"La capital es Buenos Aires.\")\n",
        "    case \"bahamas\":\n",
        "        print(\"La capital es Nassau.\")\n",
        "    case \"barbados\":\n",
        "        print(\"La capital es Bridgetown.\")\n",
        "    case \"belice\":\n",
        "        print(\"La capital es Belmopán.\")\n",
        "    case \"bolivia\":\n",
        "        print(\"La capital es Sucre\")\n",
        "    case \"brasil\":\n",
        "        print(\"La capital es Brasilia.\")\n",
        "    case \"canada\":\n",
        "        print(\"La capital es Ottawa.\")\n",
        "    case \"chile\":\n",
        "        print(\"La capital es Santiago.\")\n",
        "    case \"colombia\":\n",
        "        print(\"La capital es Bogotá.\")\n",
        "    case \"costa rica\":\n",
        "        print(\"La capital es San José.\")\n",
        "    case \"cuba\":\n",
        "        print(\"La capital es La Habana.\")\n",
        "    case \"dominica\":\n",
        "        print(\"La capital es Roseau.\")\n",
        "    case \"ecuador\":\n",
        "        print(\"La capital es Quito.\")\n",
        "    case \"el salvador\":\n",
        "        print(\"La capital es San Salvador.\")\n",
        "    case \"granada\":\n",
        "        print(\"La capital es Saint George's.\")\n",
        "    case \"guatemala\":\n",
        "        print(\"La capital es Ciudad de Guatemala.\")\n",
        "    case \"guyana\":\n",
        "        print(\"La capital es Georgetown.\")\n",
        "    case \"haiti\":\n",
        "        print(\"La capital es Puerto Príncipe.\")\n",
        "    case \"honduras\":\n",
        "        print(\"La capital es Tegucigalpa.\")\n",
        "    case \"jamaica\":\n",
        "        print(\"La capital es Kingston.\")\n",
        "    case \"mexico\":\n",
        "        print(\"La capital es Ciudad de México.\")\n",
        "    case \"nicaragua\":\n",
        "        print(\"La capital es Managua.\")\n",
        "    case \"panama\":\n",
        "        print(\"La capital es Ciudad de Panamá.\")\n",
        "    case \"paraguay\":\n",
        "        print(\"La capital es Asunción.\")\n",
        "    case \"peru\":\n",
        "        print(\"La capital es Lima.\")\n",
        "    case \"republica dominicana\":\n",
        "        print(\"La capital es Santo Domingo.\")\n",
        "    case \"san cristobal y nieves\":\n",
        "        print(\"La capital es Basseterre.\")\n",
        "    case \"san vicente y las granadinas\":\n",
        "        print(\"La capital es Kingstown.\")\n",
        "    case \"santa lucia\":\n",
        "        print(\"La capital es Castries.\")\n",
        "    case \"surinam\":\n",
        "        print(\"La capital es Paramaribo.\")\n",
        "    case \"trinidad y tobago\":\n",
        "        print(\"La capital es Puerto España.\")\n",
        "    case \"uruguay\":\n",
        "        print(\"La capital es Montevideo.\")\n",
        "    case \"estados unidos\":\n",
        "        print(\"La capital es Washington D.C.\")\n",
        "    case \"venezuela\":\n",
        "        print(\"La capital es Caracas.\")\n",
        "    case _:\n",
        "        print(\"País no identificado.\")"
      ],
      "metadata": {
        "id": "2NN3RkYwFZwO"
      },
      "execution_count": null,
      "outputs": []
    }
  ]
}